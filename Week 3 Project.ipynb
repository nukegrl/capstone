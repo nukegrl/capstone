{
    "cells": [
        {
            "cell_type": "code",
            "execution_count": 4,
            "metadata": {},
            "outputs": [
                {
                    "name": "stdout",
                    "output_type": "stream",
                    "text": "Requirement already up-to-date: requests in /opt/conda/envs/Python36/lib/python3.6/site-packages (2.24.0)\nRequirement already up-to-date: branca in /opt/conda/envs/Python36/lib/python3.6/site-packages (0.4.1)\nRequirement already up-to-date: six in /opt/conda/envs/Python36/lib/python3.6/site-packages (1.15.0)\nRequirement already up-to-date: jinja2 in /opt/conda/envs/Python36/lib/python3.6/site-packages (2.11.2)\nRequirement already up-to-date: numpy in /opt/conda/envs/Python36/lib/python3.6/site-packages (1.19.1)\nRequirement already up-to-date: chardet in /opt/conda/envs/Python36/lib/python3.6/site-packages (3.0.4)\nRequirement already up-to-date: idna in /opt/conda/envs/Python36/lib/python3.6/site-packages (2.10)\nRequirement already up-to-date: urllib3 in /opt/conda/envs/Python36/lib/python3.6/site-packages (1.25.10)\nRequirement already up-to-date: certifi in /opt/conda/envs/Python36/lib/python3.6/site-packages (2020.6.20)\nRequirement already up-to-date: MarkupSafe in /opt/conda/envs/Python36/lib/python3.6/site-packages (1.1.1)\nSolving environment: done\n\n# All requested packages already installed.\n\nSolving environment: done\n\n# All requested packages already installed.\n\nRequirement already satisfied: bs4 in /opt/conda/envs/Python36/lib/python3.6/site-packages (0.0.1)\nRequirement already satisfied: beautifulsoup4 in /opt/conda/envs/Python36/lib/python3.6/site-packages (from bs4) (4.7.1)\nRequirement already satisfied: soupsieve>=1.2 in /opt/conda/envs/Python36/lib/python3.6/site-packages (from beautifulsoup4->bs4) (1.7.1)\nRequirement already satisfied: uszipcode in /opt/conda/envs/Python36/lib/python3.6/site-packages (0.2.4)\nRequirement already satisfied: attrs in /opt/conda/envs/Python36/lib/python3.6/site-packages (from uszipcode) (18.2.0)\nRequirement already satisfied: pathlib-mate in /opt/conda/envs/Python36/lib/python3.6/site-packages (from uszipcode) (1.0.0)\nRequirement already satisfied: sqlalchemy in /opt/conda/envs/Python36/lib/python3.6/site-packages (from uszipcode) (1.2.18)\nRequirement already satisfied: requests in /opt/conda/envs/Python36/lib/python3.6/site-packages (from uszipcode) (2.24.0)\nRequirement already satisfied: autopep8 in /opt/conda/envs/Python36/lib/python3.6/site-packages (from pathlib-mate->uszipcode) (1.5.4)\nRequirement already satisfied: six in /opt/conda/envs/Python36/lib/python3.6/site-packages (from pathlib-mate->uszipcode) (1.15.0)\nRequirement already satisfied: certifi>=2017.4.17 in /opt/conda/envs/Python36/lib/python3.6/site-packages (from requests->uszipcode) (2020.6.20)\nRequirement already satisfied: chardet<4,>=3.0.2 in /opt/conda/envs/Python36/lib/python3.6/site-packages (from requests->uszipcode) (3.0.4)\nRequirement already satisfied: idna<3,>=2.5 in /opt/conda/envs/Python36/lib/python3.6/site-packages (from requests->uszipcode) (2.10)\nRequirement already satisfied: urllib3!=1.25.0,!=1.25.1,<1.26,>=1.21.1 in /opt/conda/envs/Python36/lib/python3.6/site-packages (from requests->uszipcode) (1.25.10)\nRequirement already satisfied: pycodestyle>=2.6.0 in /opt/conda/envs/Python36/lib/python3.6/site-packages (from autopep8->pathlib-mate->uszipcode) (2.6.0)\nRequirement already satisfied: toml in /opt/conda/envs/Python36/lib/python3.6/site-packages (from autopep8->pathlib-mate->uszipcode) (0.10.1)\nRequirement already satisfied: tqdm in /opt/conda/envs/Python36/lib/python3.6/site-packages (4.31.1)\nLibraries imported\n"
                }
            ],
            "source": "!pip install --upgrade requests branca six jinja2 numpy chardet idna urllib3 certifi MarkupSafe\n!conda install -c conda-forge folium --yes\n!conda install -c conda-forge geopy --yes\n!pip install bs4\n!pip install uszipcode\n!pip install tqdm\n\n#import all the libraries\nimport numpy as np # library to handle data in a vectorized manner\nimport pandas as pd # library for data analsysis\nimport requests\nimport random\nfrom sklearn.cluster import KMeans\nfrom pandas.io.json import json_normalize\nimport folium\n#from folium.plugins import MiniMap\nfrom geopy.geocoders import Nominatim\nimport json\nimport matplotlib.pyplot as plt\nimport matplotlib.cm as cm\nimport matplotlib.colors as colors\nfrom sklearn import metrics\nfrom PIL import Image\nimport matplotlib.patches as mpatches\nimport types\nfrom botocore.client import Config\nimport ibm_boto3\nfrom bs4 import BeautifulSoup\nfrom uszipcode import SearchEngine\nimport geopy\nfrom geopy.extra.rate_limiter import RateLimiter\nimport tqdm\nfrom tqdm._tqdm_notebook import tqdm_notebook\n\nprint('Libraries imported')"
        },
        {
            "cell_type": "code",
            "execution_count": 5,
            "metadata": {},
            "outputs": [
                {
                    "name": "stdout",
                    "output_type": "stream",
                    "text": "Data downloaded!\n"
                },
                {
                    "data": {
                        "text/html": "<div>\n<style scoped>\n    .dataframe tbody tr th:only-of-type {\n        vertical-align: middle;\n    }\n\n    .dataframe tbody tr th {\n        vertical-align: top;\n    }\n\n    .dataframe thead th {\n        text-align: right;\n    }\n</style>\n<table border=\"1\" class=\"dataframe\">\n  <thead>\n    <tr style=\"text-align: right;\">\n      <th></th>\n      <th>Borough</th>\n      <th>Neighborhood</th>\n      <th>Latitude</th>\n      <th>Longitude</th>\n    </tr>\n  </thead>\n  <tbody>\n    <tr>\n      <th>0</th>\n      <td>Manhattan</td>\n      <td>Marble Hill</td>\n      <td>40.876551</td>\n      <td>-73.910660</td>\n    </tr>\n    <tr>\n      <th>1</th>\n      <td>Manhattan</td>\n      <td>Chinatown</td>\n      <td>40.715618</td>\n      <td>-73.994279</td>\n    </tr>\n    <tr>\n      <th>2</th>\n      <td>Manhattan</td>\n      <td>Washington Heights</td>\n      <td>40.851903</td>\n      <td>-73.936900</td>\n    </tr>\n    <tr>\n      <th>3</th>\n      <td>Manhattan</td>\n      <td>Inwood</td>\n      <td>40.867684</td>\n      <td>-73.921210</td>\n    </tr>\n    <tr>\n      <th>4</th>\n      <td>Manhattan</td>\n      <td>Hamilton Heights</td>\n      <td>40.823604</td>\n      <td>-73.949688</td>\n    </tr>\n    <tr>\n      <th>5</th>\n      <td>Manhattan</td>\n      <td>Manhattanville</td>\n      <td>40.816934</td>\n      <td>-73.957385</td>\n    </tr>\n    <tr>\n      <th>6</th>\n      <td>Manhattan</td>\n      <td>Central Harlem</td>\n      <td>40.815976</td>\n      <td>-73.943211</td>\n    </tr>\n    <tr>\n      <th>7</th>\n      <td>Manhattan</td>\n      <td>East Harlem</td>\n      <td>40.792249</td>\n      <td>-73.944182</td>\n    </tr>\n    <tr>\n      <th>8</th>\n      <td>Manhattan</td>\n      <td>Upper East Side</td>\n      <td>40.775639</td>\n      <td>-73.960508</td>\n    </tr>\n    <tr>\n      <th>9</th>\n      <td>Manhattan</td>\n      <td>Yorkville</td>\n      <td>40.775930</td>\n      <td>-73.947118</td>\n    </tr>\n  </tbody>\n</table>\n</div>",
                        "text/plain": "     Borough        Neighborhood   Latitude  Longitude\n0  Manhattan         Marble Hill  40.876551 -73.910660\n1  Manhattan           Chinatown  40.715618 -73.994279\n2  Manhattan  Washington Heights  40.851903 -73.936900\n3  Manhattan              Inwood  40.867684 -73.921210\n4  Manhattan    Hamilton Heights  40.823604 -73.949688\n5  Manhattan      Manhattanville  40.816934 -73.957385\n6  Manhattan      Central Harlem  40.815976 -73.943211\n7  Manhattan         East Harlem  40.792249 -73.944182\n8  Manhattan     Upper East Side  40.775639 -73.960508\n9  Manhattan           Yorkville  40.775930 -73.947118"
                    },
                    "execution_count": 5,
                    "metadata": {},
                    "output_type": "execute_result"
                }
            ],
            "source": "\n\n#New York Geographical Data on Neighborhoods/Boroughs\n!wget -q -O 'newyork_data.json' https://cocl.us/new_york_dataset\nprint('Data downloaded!')\n\n#Load data\nwith open('newyork_data.json') as json_data:\n    newyork_data = json.load(json_data)\n    \n#Take a look at the data\n#newyork_data\n\n#the relevant data is in the features key, which is basically a list of neighborhoods\nNY_data = newyork_data['features']\n\n# Transform the NY Data into a Pandas dataframe\n# define the dataframe columns\ncolumn_names = ['Borough', 'Neighborhood', 'Latitude', 'Longitude'] \n\n# instantiate the dataframe\nNYdf = pd.DataFrame(columns=column_names)\n\n# Make sure the columns are correct\nNYdf\nNY_data[0]\n\nfor data in NY_data:\n    borough = neighborhood_name = data['properties']['borough'] \n    neighborhood_name = data['properties']['name']\n        \n    neighborhood_latlon = data['geometry']['coordinates']\n    neighborhood_lat = neighborhood_latlon[1]\n    neighborhood_lon = neighborhood_latlon[0]\n    \n    NYdf = NYdf.append({'Borough': borough,\n                        'Neighborhood': neighborhood_name,\n                        'Latitude': neighborhood_lat,\n                        'Longitude': neighborhood_lon}, ignore_index=True)\n    \n    #Take only the neighborhoods from Manhattan\nNYdf =NYdf[NYdf['Borough'] == 'Manhattan'].reset_index(drop=True)\nNYdf.head(10)"
        },
        {
            "cell_type": "code",
            "execution_count": null,
            "metadata": {},
            "outputs": [],
            "source": ""
        },
        {
            "cell_type": "code",
            "execution_count": null,
            "metadata": {},
            "outputs": [],
            "source": ""
        },
        {
            "cell_type": "code",
            "execution_count": null,
            "metadata": {},
            "outputs": [],
            "source": ""
        },
        {
            "cell_type": "code",
            "execution_count": null,
            "metadata": {},
            "outputs": [],
            "source": ""
        },
        {
            "cell_type": "code",
            "execution_count": null,
            "metadata": {},
            "outputs": [],
            "source": ""
        }
    ],
    "metadata": {
        "kernelspec": {
            "display_name": "Python 3.6",
            "language": "python",
            "name": "python3"
        },
        "language_info": {
            "codemirror_mode": {
                "name": "ipython",
                "version": 3
            },
            "file_extension": ".py",
            "mimetype": "text/x-python",
            "name": "python",
            "nbconvert_exporter": "python",
            "pygments_lexer": "ipython3",
            "version": "3.6.9"
        }
    },
    "nbformat": 4,
    "nbformat_minor": 1
}